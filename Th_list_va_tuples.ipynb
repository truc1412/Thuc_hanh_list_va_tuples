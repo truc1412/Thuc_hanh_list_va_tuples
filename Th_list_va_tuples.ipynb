{
 "cells": [
  {
   "cell_type": "code",
   "execution_count": 1,
   "id": "f72b50de",
   "metadata": {},
   "outputs": [
    {
     "name": "stdout",
     "output_type": "stream",
     "text": [
      "('Cao Hoàng Yến', 20, 'Bắc Ninh')\n",
      "('Nguyễn Duy Linh ', 21, 'Hà Nam')\n",
      "[('Hà Văn Hoàng', 24, 'Hà Nội', 6, 9, 10, 7.75), ('Trần Minh Tân', 26, 'Nghệ An', 4, 8, 7, 5.75), ('Cao Hoàng Yến', 20, 'Bắc Ninh', 8, 10, 5, 7.75), ('Nguyễn Duy Linh ', 21, 'Hà Nam', 8, 8, 9, 8.25)]\n"
     ]
    }
   ],
   "source": [
    "students = [('Hà Văn Hoàng', 24, 'Hà Nội',6, 9, 10),\n",
    "            ('Trần Minh Tân', 26, 'Nghệ An',4, 8, 7),\n",
    "            ('Cao Hoàng Yến', 20, 'Bắc Ninh', 8, 10, 5),\n",
    "            ('Nguyễn Duy Linh ',21, 'Hà Nam',8, 8, 9)]\n",
    "\n",
    "#Tim diem toan cao nhat\n",
    "\n",
    "    \n",
    "\n",
    "#Tinh diem tong\n",
    "# def average_score(a):\n",
    "#     s=(students[a][3] *2 + students[a][4] + students[a][5])/4\n",
    "#     students_list=list(students[a])\n",
    "#     students_list.append(s)\n",
    "#     students[a]=tuple(students_list)\n",
    "#     print(students[a])\n",
    "\n",
    "# def find_high_score(b):\n",
    "#     for i in range(0,4):\n",
    "#         m = True\n",
    "#         for j in range(0,4):\n",
    "#             if students[i][b] >= students[j][b]:\n",
    "#                 pass\n",
    "#             elif students[i][b] < students[j][b]:\n",
    "#                 m=False\n",
    "#         if m == True:\n",
    "#             print(students[i][0])\n",
    "# average_score(0)\n",
    "# average_score(1)\n",
    "# average_score(2)\n",
    "# average_score(3)\n",
    "\n",
    "# find_high_score(6)\n",
    "\n",
    "mathmax = students[0][3]\n",
    "for i in students:\n",
    "    if mathmax < i[3]:\n",
    "        mathmax = i[3]\n",
    "for i in students:\n",
    "    if i[3] == mathmax:\n",
    "        print(i[:3])            \n",
    "    \n",
    "stud_temp = []\n",
    "for i in students:\n",
    "    dtk = (i[3]*2 + i[4] + i[5])/4\n",
    "    temp = list(i)\n",
    "    temp.append(dtk)\n",
    "    stud_temp.append(tuple(temp))\n",
    "students = stud_temp\n",
    "print(students)\n"
   ]
  },
  {
   "cell_type": "code",
   "execution_count": 2,
   "id": "f56f6dfa",
   "metadata": {},
   "outputs": [
    {
     "name": "stdout",
     "output_type": "stream",
     "text": [
      "[('Hà Văn Hoàng', 24, 'Hà Nội', 6, 9, 10, 7.75, 'Kha'), ('Trần Minh Tân', 26, 'Nghệ An', 4, 8, 7, 5.75, 'Trung binh'), ('Cao Hoàng Yến', 20, 'Bắc Ninh', 8, 10, 5, 7.75, 'Kha'), ('Nguyễn Duy Linh ', 21, 'Hà Nam', 8, 8, 9, 8.25, 'Gioi')]\n"
     ]
    }
   ],
   "source": [
    "stud_temp = []\n",
    "for i in students:\n",
    "    temp= list(i)\n",
    "    if i[-1] > 8:\n",
    "        x1 = 'Gioi'\n",
    "    elif i[-1] > 6:\n",
    "        x1 = 'Kha'\n",
    "    elif i[-1] > 5:\n",
    "        x1= 'Trung binh'\n",
    "    else:\n",
    "        x1= 'Yeu'\n",
    "    temp.append(x1)\n",
    "    stud_temp.append(tuple(temp))\n",
    "students = stud_temp\n",
    "print(stud_temp)   "
   ]
  },
  {
   "cell_type": "code",
   "execution_count": 3,
   "id": "de7c8292",
   "metadata": {},
   "outputs": [
    {
     "data": {
      "text/plain": [
       "[('Trần Minh Tân', 26, 'Nghệ An', 4, 8, 7, 5.75, 'Trung binh'),\n",
       " ('Nguyễn Duy Linh ', 21, 'Hà Nam', 8, 8, 9, 8.25, 'Gioi'),\n",
       " ('Hà Văn Hoàng', 24, 'Hà Nội', 6, 9, 10, 7.75, 'Kha'),\n",
       " ('Cao Hoàng Yến', 20, 'Bắc Ninh', 8, 10, 5, 7.75, 'Kha')]"
      ]
     },
     "execution_count": 3,
     "metadata": {},
     "output_type": "execute_result"
    }
   ],
   "source": [
    "#Sap xep theo ten\n",
    "students=sorted(students, reverse=True)\n",
    "students"
   ]
  },
  {
   "cell_type": "code",
   "execution_count": 4,
   "id": "ef591b32",
   "metadata": {},
   "outputs": [
    {
     "data": {
      "text/plain": [
       "[('Nguyễn Duy Linh ', 21, 'Hà Nam', 8, 8, 9, 8.25, 'Gioi'),\n",
       " ('Hà Văn Hoàng', 24, 'Hà Nội', 6, 9, 10, 7.75, 'Kha'),\n",
       " ('Cao Hoàng Yến', 20, 'Bắc Ninh', 8, 10, 5, 7.75, 'Kha'),\n",
       " ('Trần Minh Tân', 26, 'Nghệ An', 4, 8, 7, 5.75, 'Trung binh')]"
      ]
     },
     "execution_count": 4,
     "metadata": {},
     "output_type": "execute_result"
    }
   ],
   "source": [
    "#Sap xep theo loai\n",
    "students=sorted(students, key=lambda x:x[-1] ,reverse=False)\n",
    "students"
   ]
  },
  {
   "cell_type": "code",
   "execution_count": 5,
   "id": "727354d1",
   "metadata": {},
   "outputs": [
    {
     "data": {
      "text/plain": [
       "[('Nguyễn Duy Linh ', 21, 'Hà Nam', 8, 8, 9, 8.25, 'Gioi'),\n",
       " ('Cao Hoàng Yến', 20, 'Bắc Ninh', 8, 10, 5, 7.75, 'Kha'),\n",
       " ('Hà Văn Hoàng', 24, 'Hà Nội', 6, 9, 10, 7.75, 'Kha'),\n",
       " ('Trần Minh Tân', 26, 'Nghệ An', 4, 8, 7, 5.75, 'Trung binh')]"
      ]
     },
     "execution_count": 5,
     "metadata": {},
     "output_type": "execute_result"
    }
   ],
   "source": [
    "#Sap xep theo diem toan\n",
    "students=sorted(students, key=lambda x:x[3] ,reverse=True)\n",
    "students"
   ]
  },
  {
   "cell_type": "code",
   "execution_count": null,
   "id": "18502c0d",
   "metadata": {},
   "outputs": [],
   "source": []
  }
 ],
 "metadata": {
  "kernelspec": {
   "display_name": "Python 3 (ipykernel)",
   "language": "python",
   "name": "python3"
  },
  "language_info": {
   "codemirror_mode": {
    "name": "ipython",
    "version": 3
   },
   "file_extension": ".py",
   "mimetype": "text/x-python",
   "name": "python",
   "nbconvert_exporter": "python",
   "pygments_lexer": "ipython3",
   "version": "3.9.13"
  }
 },
 "nbformat": 4,
 "nbformat_minor": 5
}
